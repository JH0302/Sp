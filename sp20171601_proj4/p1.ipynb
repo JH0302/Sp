{
 "cells": [
  {
   "cell_type": "code",
   "execution_count": 28,
   "metadata": {},
   "outputs": [
    {
     "name": "stdout",
     "output_type": "stream",
     "text": [
      "Input:\n",
      "5\n",
      "3 4 4 6 1 4 4\n",
      "\n",
      "Output:\n",
      "3 2 2 4 2 "
     ]
    }
   ],
   "source": [
    "print(\"Input:\") \n",
    "N = int(input())                          #counter 갯수 입력\n",
    "A = list(input().split(\" \"))              #Array 입력\n",
    "A = [int (i) for i in A]                 \n",
    "\n",
    "counter = [0] * N                         #counter 초기화\n",
    "for i in range(len(A)):\n",
    "    if (A[i] >= 1 and A[i] <= N):         #Array의 숫자가 1보다 크고 N보다 작으면 \n",
    "        index = A[i]                      #숫자에 해당하는 인덱스에\n",
    "        counter[index-1] += 1             #해당하는 counter를 1증가\n",
    "    elif (A[i] == N+1):                   #Array의 숫자가 N+1과 같으면\n",
    "        maxValue = counter[0]             #counter의 최댓값을 찾아서\n",
    "        for k in range(1, len(counter)):\n",
    "            if maxValue < counter[k]:\n",
    "                maxValue = counter[k]\n",
    "        counter = [maxValue]*N            #그 최댓값으로 모든 counter를 set해줌\n",
    "    else:\n",
    "        continue\n",
    "\n",
    "print()\n",
    "print(\"Output:\")\n",
    "for i in counter:\n",
    "    print(i,end=\" \")       "
   ]
  },
  {
   "cell_type": "code",
   "execution_count": null,
   "metadata": {},
   "outputs": [],
   "source": []
  }
 ],
 "metadata": {
  "kernelspec": {
   "display_name": "Python 3",
   "language": "python",
   "name": "python3"
  },
  "language_info": {
   "codemirror_mode": {
    "name": "ipython",
    "version": 3
   },
   "file_extension": ".py",
   "mimetype": "text/x-python",
   "name": "python",
   "nbconvert_exporter": "python",
   "pygments_lexer": "ipython3",
   "version": "3.6.5"
  }
 },
 "nbformat": 4,
 "nbformat_minor": 2
}
