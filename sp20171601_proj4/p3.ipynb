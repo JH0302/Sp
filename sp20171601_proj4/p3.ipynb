{
 "cells": [
  {
   "cell_type": "code",
   "execution_count": 6,
   "metadata": {},
   "outputs": [
    {
     "name": "stdout",
     "output_type": "stream",
     "text": [
      "Input:\n",
      "-8 4 5 -10 3\n",
      "\n",
      "Output:\n",
      "3\n"
     ]
    }
   ],
   "source": [
    "print(\"Input:\")\n",
    "A = list(input().split(\" \"))                 #Array 입력\n",
    "A = [int (i) for i in A]                     \n",
    "\n",
    "if((A[0]+A[0])<0):                           #minumum값 지정\n",
    "    min = (-1)*(A[0]+A[0])\n",
    "else:\n",
    "    min = A[0]+A[0]\n",
    "    \n",
    "for i in range(len(A)):                       \n",
    "    for j in range(i,len(A)):\n",
    "        if((A[i]+A[j])<0):                   #만약 더한 값이 음수라면 양수로 변환\n",
    "            result = (-1)*(A[i]+A[j])\n",
    "        else:\n",
    "            result = A[i]+A[j]\n",
    "        if(result<min):\n",
    "            min = result                     #더한 값이 minimum 값보다 작으면 그 값을 minimum으로 새로 설정\n",
    "          \n",
    "print()\n",
    "print(\"Output:\")\n",
    "print(min)"
   ]
  }
 ],
 "metadata": {
  "kernelspec": {
   "display_name": "Python 3",
   "language": "python",
   "name": "python3"
  },
  "language_info": {
   "codemirror_mode": {
    "name": "ipython",
    "version": 3
   },
   "file_extension": ".py",
   "mimetype": "text/x-python",
   "name": "python",
   "nbconvert_exporter": "python",
   "pygments_lexer": "ipython3",
   "version": "3.6.5"
  }
 },
 "nbformat": 4,
 "nbformat_minor": 2
}
