{
 "cells": [
  {
   "cell_type": "code",
   "execution_count": 43,
   "metadata": {},
   "outputs": [
    {
     "name": "stdout",
     "output_type": "stream",
     "text": [
      "Input:\n",
      "4\n",
      "\n",
      "Output:\n",
      "[[0.46772236 0.17930466 0.94663472 0.34083162]\n",
      " [0.67271421 0.76453423 0.74819081 0.95758647]\n",
      " [0.40119959 0.84839029 0.50978226 0.08738787]\n",
      " [0.05871379 0.26180012 0.34327841 0.34878237]]\n",
      "[[0.76453423 0.95758647]\n",
      " [0.84839029 0.50978226]]\n"
     ]
    }
   ],
   "source": [
    "import numpy as np\n",
    "\n",
    "print(\"Input:\")\n",
    "N = int(input())                            #배열의 크기 입력\n",
    " \n",
    "A = np.random.random((N,N))                 #랜덤 배열 생성\n",
    "result = []\n",
    "for i in range(0,N,2):                      #2x2배열로 나눠서\n",
    "    for j in range(0,N,2):\n",
    "        max = A[i][j]                       #최댓값 초기 설정\n",
    "        if(A[i][j+1] > max):                #최댓값 찾기\n",
    "            max = A[i][j+1]\n",
    "        if(A[i+1][j] > max):\n",
    "            max = A[i+1][j]\n",
    "        if(A[i+1][j+1] > max):\n",
    "            max = A[i+1][j+1]\n",
    "        result.append(max)\n",
    "B = np.array(result)                        #결과값이 든 리스트를 배열로 변경\n",
    "B = B.reshape(N//2,N//2)                    #2x2 배열로 바꾸기\n",
    "\n",
    "print()\n",
    "print(\"Output:\")\n",
    "print(A)\n",
    "print(B)"
   ]
  }
 ],
 "metadata": {
  "kernelspec": {
   "display_name": "Python 3",
   "language": "python",
   "name": "python3"
  },
  "language_info": {
   "codemirror_mode": {
    "name": "ipython",
    "version": 3
   },
   "file_extension": ".py",
   "mimetype": "text/x-python",
   "name": "python",
   "nbconvert_exporter": "python",
   "pygments_lexer": "ipython3",
   "version": "3.6.5"
  }
 },
 "nbformat": 4,
 "nbformat_minor": 2
}
