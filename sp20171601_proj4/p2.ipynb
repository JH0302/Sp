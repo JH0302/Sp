{
 "cells": [
  {
   "cell_type": "code",
   "execution_count": 8,
   "metadata": {},
   "outputs": [
    {
     "name": "stdout",
     "output_type": "stream",
     "text": [
      "Input:\n",
      "15 10 3\n",
      "75 30 5\n",
      "\n",
      "Output: \n",
      "1\n"
     ]
    }
   ],
   "source": [
    "print(\"Input:\")\n",
    "A = list(input().split(\" \"))                 #Array A 입력\n",
    "A = [int (i) for i in A]                    \n",
    "B = list(input().split(\" \"))                 #Array B 입력\n",
    "B = [int (i) for i in B]                    \n",
    "\n",
    "count=0\n",
    "for i in range(len(A)):\n",
    "    a = set()\n",
    "    b = set()\n",
    "    for k in range(A[i]-1):                  #A[i]의 약수 찾기\n",
    "        if (A[i] % (k+2) == 0 ):\n",
    "            a.add(k+2)\n",
    "        else:\n",
    "            continue\n",
    "    \n",
    "    for k in range(B[i]-1):                  #B[i]의 약수 찾기\n",
    "        if (B[i] % (k+2) == 0):\n",
    "            b.add(k+2)\n",
    "        else:\n",
    "            continue\n",
    "    \n",
    "    a=list(a)\n",
    "    b=list(b)\n",
    "    c=set()\n",
    "    d=set()\n",
    "    \n",
    "    for i in a:                             #A[i]의 소인수 찾기\n",
    "        for j in a:\n",
    "            if(i == j):\n",
    "                continue\n",
    "            if(i%j == 0):\n",
    "                c.add(i)\n",
    "            else:\n",
    "                continue\n",
    "            \n",
    "    for i in b:                             #B[i]의 소인수 찾기\n",
    "        for j in b:\n",
    "            if(i == j):\n",
    "                continue\n",
    "            if(i%j == 0):\n",
    "                d.add(i)\n",
    "            if(i == j):\n",
    "                continue\n",
    "    a=set(a)\n",
    "    b=set(b)\n",
    "    c=a-c\n",
    "    d=b-d\n",
    "    \n",
    "    if (c == d):                           #A[i]와 B[i]의 소인수가 같으면 count 1증가\n",
    "        count += 1\n",
    "  \n",
    "print()\n",
    "print(\"Output: \")\n",
    "print(count)"
   ]
  }
 ],
 "metadata": {
  "kernelspec": {
   "display_name": "Python 3",
   "language": "python",
   "name": "python3"
  },
  "language_info": {
   "codemirror_mode": {
    "name": "ipython",
    "version": 3
   },
   "file_extension": ".py",
   "mimetype": "text/x-python",
   "name": "python",
   "nbconvert_exporter": "python",
   "pygments_lexer": "ipython3",
   "version": "3.6.5"
  }
 },
 "nbformat": 4,
 "nbformat_minor": 2
}
